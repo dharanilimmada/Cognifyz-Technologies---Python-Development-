{
 "cells": [
  {
   "cell_type": "markdown",
   "id": "bb645c39-665a-4775-8b85-14396ab4521b",
   "metadata": {},
   "source": [
    "# Level 2"
   ]
  },
  {
   "cell_type": "markdown",
   "id": "33840674-cbfa-4058-a30e-b427c78499fe",
   "metadata": {},
   "source": [
    "### Task 1 : Guessing Game\n",
    "Write a Python program that generates a random number between 1 and 100. Theuser should then try to guess the number.The program should provide hints such as\"too high\" or \"too low\" until the correctnumber is guessed."
   ]
  },
  {
   "cell_type": "code",
   "execution_count": 1,
   "id": "d243f928-02b0-4d84-b94d-3eeb70ce574e",
   "metadata": {},
   "outputs": [
    {
     "name": "stdin",
     "output_type": "stream",
     "text": [
      "Guess the number between 1 and 100:  23\n"
     ]
    },
    {
     "name": "stdout",
     "output_type": "stream",
     "text": [
      "Too low! Try again.\n"
     ]
    },
    {
     "name": "stdin",
     "output_type": "stream",
     "text": [
      "Guess the number between 1 and 100:  56\n"
     ]
    },
    {
     "name": "stdout",
     "output_type": "stream",
     "text": [
      "Too low! Try again.\n"
     ]
    },
    {
     "name": "stdin",
     "output_type": "stream",
     "text": [
      "Guess the number between 1 and 100:  89\n"
     ]
    },
    {
     "name": "stdout",
     "output_type": "stream",
     "text": [
      "Too high! Try again.\n"
     ]
    },
    {
     "name": "stdin",
     "output_type": "stream",
     "text": [
      "Guess the number between 1 and 100:  78\n"
     ]
    },
    {
     "name": "stdout",
     "output_type": "stream",
     "text": [
      "Too high! Try again.\n"
     ]
    },
    {
     "name": "stdin",
     "output_type": "stream",
     "text": [
      "Guess the number between 1 and 100:  67\n"
     ]
    },
    {
     "name": "stdout",
     "output_type": "stream",
     "text": [
      "Too low! Try again.\n"
     ]
    },
    {
     "name": "stdin",
     "output_type": "stream",
     "text": [
      "Guess the number between 1 and 100:  70\n"
     ]
    },
    {
     "name": "stdout",
     "output_type": "stream",
     "text": [
      "Too low! Try again.\n"
     ]
    },
    {
     "name": "stdin",
     "output_type": "stream",
     "text": [
      "Guess the number between 1 and 100:  75\n"
     ]
    },
    {
     "name": "stdout",
     "output_type": "stream",
     "text": [
      "Too low! Try again.\n"
     ]
    },
    {
     "name": "stdin",
     "output_type": "stream",
     "text": [
      "Guess the number between 1 and 100:  77\n"
     ]
    },
    {
     "name": "stdout",
     "output_type": "stream",
     "text": [
      "Too high! Try again.\n"
     ]
    },
    {
     "name": "stdin",
     "output_type": "stream",
     "text": [
      "Guess the number between 1 and 100:  76\n"
     ]
    },
    {
     "name": "stdout",
     "output_type": "stream",
     "text": [
      "Congratulations! You guessed the correct number 76 in 9 attempts.\n"
     ]
    }
   ],
   "source": [
    "import random as r\n",
    "\n",
    "def guess_number():\n",
    "    # Generate a random number betn 1 and 100\n",
    "    number_to_guess = r.randint(1, 100)\n",
    "    attempts = 0\n",
    "    \n",
    "    while True:\n",
    "        user_guess = int(input(\"Guess the number between 1 and 100: \"))\n",
    "        attempts += 1\n",
    "        \n",
    "        # Check if the guess is too high, too low, or correct\n",
    "        if user_guess < number_to_guess:\n",
    "            print(\"Too low! Try again.\")\n",
    "        elif user_guess > number_to_guess:\n",
    "            print(\"Too high! Try again.\")\n",
    "        else:\n",
    "            print(f\"Congratulations! You guessed the correct number {number_to_guess} in {attempts} attempts.\")\n",
    "            break\n",
    "\n",
    "guess_number()"
   ]
  },
  {
   "cell_type": "markdown",
   "id": "fd937b31-2cad-4c75-a466-972edf009e2b",
   "metadata": {},
   "source": [
    "--------------------------------------------------------------------------------------------------------------------------------------------------------"
   ]
  },
  {
   "cell_type": "markdown",
   "id": "765d6c40-4b76-4755-8265-2de82f39b5f1",
   "metadata": {},
   "source": [
    "### Task 2 : Number Guesser\n",
    "Create a number guessing game where the\n",
    "program generates a random number\n",
    "between a specified range, and the user tries\n",
    "to guess it. Provide feedback to the user if\n",
    "their guess is too high or too low."
   ]
  },
  {
   "cell_type": "code",
   "execution_count": 6,
   "id": "36888329-7bb2-4616-a32c-45070f863a9e",
   "metadata": {},
   "outputs": [
    {
     "name": "stdin",
     "output_type": "stream",
     "text": [
      "Enter a starting range:  20\n",
      "Enter an ending range:  50\n",
      "Guess a number:  25\n"
     ]
    },
    {
     "name": "stdout",
     "output_type": "stream",
     "text": [
      "Too low\n"
     ]
    },
    {
     "name": "stdin",
     "output_type": "stream",
     "text": [
      "Guess a number:  35\n"
     ]
    },
    {
     "name": "stdout",
     "output_type": "stream",
     "text": [
      "Too low\n"
     ]
    },
    {
     "name": "stdin",
     "output_type": "stream",
     "text": [
      "Guess a number:  45\n"
     ]
    },
    {
     "name": "stdout",
     "output_type": "stream",
     "text": [
      "Too low\n"
     ]
    },
    {
     "name": "stdin",
     "output_type": "stream",
     "text": [
      "Guess a number:  48\n"
     ]
    },
    {
     "name": "stdout",
     "output_type": "stream",
     "text": [
      "Congratulations! You guessed the correct number 48 in 4 attempts.\n"
     ]
    }
   ],
   "source": [
    "import random as r\n",
    "\n",
    "def number_guesser(low, high):\n",
    "    b = r.randint(low, high)\n",
    "    attempt = 0\n",
    "    \n",
    "    while True:\n",
    "        a = int(input(\"Guess a number: \"))\n",
    "        attempt += 1 \n",
    "        \n",
    "        if a < b:\n",
    "            print(\"Too low\")\n",
    "        elif a > b:\n",
    "            print(\"Too high\")\n",
    "        else:\n",
    "            print(f\"Congratulations! You guessed the correct number {b} in {attempt} attempts.\")\n",
    "            break\n",
    "\n",
    "low = int(input(\"Enter a starting range: \"))\n",
    "high = int(input(\"Enter an ending range: \"))\n",
    "number_guesser(low, high)"
   ]
  },
  {
   "cell_type": "markdown",
   "id": "605b7635-fc06-4ce9-b64f-20e3268607fc",
   "metadata": {},
   "source": [
    "--------------------------------------------------------------------------------------------------------------------------------------------------------"
   ]
  },
  {
   "cell_type": "markdown",
   "id": "8a9eb40b-9255-4a90-8430-65a36edc7b9f",
   "metadata": {},
   "source": [
    "### Task 3 : Password Strength Checker\n",
    "Create a Python function that evaluates\n",
    "the strength of a password entered by the\n",
    "user. Implement checks for factors such as\n",
    "length, presence of uppercase and\n",
    "lowercase letters, digits, and special\n",
    "characters."
   ]
  },
  {
   "cell_type": "code",
   "execution_count": 25,
   "id": "565616df-9f83-4ffb-9d28-55cb5d160dc2",
   "metadata": {},
   "outputs": [
    {
     "name": "stdin",
     "output_type": "stream",
     "text": [
      "Enter your password:  ········\n"
     ]
    },
    {
     "name": "stdout",
     "output_type": "stream",
     "text": [
      "Password strength is strong.\n"
     ]
    }
   ],
   "source": [
    "import getpass\n",
    "import string\n",
    "\n",
    "def check_strength(password):\n",
    "    min_length = 8\n",
    "    has_uppercase = any(c.isupper() for c in password)\n",
    "    has_lowercase = any(c.islower() for c in password)\n",
    "    has_digit = any(c.isdigit() for c in password)\n",
    "    has_special_char = any(c in string.punctuation for c in password)\n",
    "\n",
    "    if len(password) < min_length:\n",
    "        print(\"Password strength is low: Password is too short.\")\n",
    "    elif not (has_uppercase and has_lowercase and has_digit and has_special_char):\n",
    "        print(\"Password strength is low: Password must include uppercase letters, lowercase letters, digits, and special characters.\")\n",
    "    else:\n",
    "        print(\"Password strength is strong.\")\n",
    "\n",
    "password = getpass.getpass(\"Enter your password: \")\n",
    "check_strength(password)"
   ]
  },
  {
   "cell_type": "markdown",
   "id": "fd286ea5-62ca-4d83-ac5a-896fceac8944",
   "metadata": {},
   "source": [
    "--------------------------------------------------------------------------------------------------------------------------------------------------------"
   ]
  },
  {
   "cell_type": "markdown",
   "id": "5569b1f9-1e15-4266-9161-beabed4df52d",
   "metadata": {},
   "source": [
    "### Task 4 : Fibonacci Sequence\n",
    "Write a Python function that generates the Fibonacci sequence up to a given number ofterms. The function should take an integer input from the user and display the Fibonacci sequence up to that number of terms."
   ]
  },
  {
   "cell_type": "code",
   "execution_count": 20,
   "id": "4ea2ecef-ccbc-45a4-9b5d-df3f2c6d4377",
   "metadata": {},
   "outputs": [
    {
     "name": "stdin",
     "output_type": "stream",
     "text": [
      "Enter a number to generate fibonacci series :  20\n"
     ]
    },
    {
     "name": "stdout",
     "output_type": "stream",
     "text": [
      "[0, 1, 1, 2, 3, 5, 8, 13, 21, 34, 55, 89, 144, 233, 377, 610, 987, 1597, 2584, 4181]\n"
     ]
    }
   ],
   "source": [
    "def fibonacci(num):\n",
    "    fib = []\n",
    "    a = 0\n",
    "    b = 1\n",
    "\n",
    "    for i in range (num):\n",
    "        fib.append(a)\n",
    "        a,b = b, a+b\n",
    "    return fib\n",
    "\n",
    "num = int(input(\"Enter a number to generate fibonacci series : \"))\n",
    "\n",
    "fib_series = fibonacci(num)\n",
    "print(fib_series)"
   ]
  },
  {
   "cell_type": "markdown",
   "id": "88b30dad-204e-4928-aac7-a8a04faf2b36",
   "metadata": {},
   "source": [
    "--------------------------------------------------------------------------------------------------------------------------------------------------------"
   ]
  },
  {
   "cell_type": "markdown",
   "id": "e21be049-5d9e-4a52-a1a9-96299d18858a",
   "metadata": {},
   "source": [
    "### Task 5 : File Manipulation\n",
    "Write a Python program that reads a text\n",
    "file and counts the occurrences of each\n",
    "word in the file. Display the results in\n",
    "alphabetical order along with their\n",
    "respective counts."
   ]
  },
  {
   "cell_type": "code",
   "execution_count": 26,
   "id": "9112dda3-c1a1-4648-b9db-b40f05a8ff57",
   "metadata": {},
   "outputs": [
    {
     "data": {
      "text/plain": [
       "'C:\\\\Users\\\\Dell\\\\My Python Stuff\\\\Cognifyz Technologies Internship\\\\Level 2'"
      ]
     },
     "execution_count": 26,
     "metadata": {},
     "output_type": "execute_result"
    }
   ],
   "source": [
    "pwd"
   ]
  },
  {
   "cell_type": "code",
   "execution_count": 1,
   "id": "59d6fcc2-59ac-4ca0-9020-75f1202038b1",
   "metadata": {},
   "outputs": [
    {
     "name": "stdout",
     "output_type": "stream",
     "text": [
      "1: 1\n",
      "a: 2\n",
      "and: 1\n",
      "beautifulsoup: 1\n",
      "build: 1\n",
      "data: 2\n",
      "develop: 1\n",
      "extracts: 1\n",
      "from: 1\n",
      "handling: 1\n",
      "htmlxml: 1\n",
      "improve: 1\n",
      "knowledge: 1\n",
      "libraries: 1\n",
      "like: 1\n",
      "of: 1\n",
      "or: 1\n",
      "scraper: 2\n",
      "scraping: 1\n",
      "scrapy: 1\n",
      "specific: 1\n",
      "task: 2\n",
      "techniques: 1\n",
      "that: 1\n",
      "their: 1\n",
      "this: 1\n",
      "using: 1\n",
      "web: 3\n",
      "websites: 1\n",
      "will: 1\n"
     ]
    }
   ],
   "source": [
    "def count_words_in_file(file_path):\n",
    "    word_count = {}\n",
    "\n",
    "    # Open the file and read its content\n",
    "    with open(file_path, 'r') as file:\n",
    "        for line in file:\n",
    "            # Convert the line to lowercase and split into words\n",
    "            words = line.lower().split()\n",
    "            for word in words:\n",
    "                # Remove punctuation from each word\n",
    "                word = ''.join(char for char in word if char.isalnum())\n",
    "                if word:\n",
    "                    # Increment the word count in the dictionary\n",
    "                    word_count[word] = word_count.get(word, 0) + 1\n",
    "\n",
    "    # Sort the dictionary by key (words) and display the results\n",
    "    for word in sorted(word_count):\n",
    "        print(f\"{word}: {word_count[word]}\")\n",
    "\n",
    "# Specify the path to the text file\n",
    "file_path = 'C:\\\\Users\\\\Dell\\\\My Python Stuff\\\\Cognifyz Technologies Internship\\\\Level 2\\\\sample.txt'\n",
    "\n",
    "# Call the function with the file path\n",
    "count_words_in_file(file_path)\n"
   ]
  },
  {
   "cell_type": "markdown",
   "id": "616eaacb-36e6-4dcb-bf62-5e2b2d93654c",
   "metadata": {},
   "source": [
    "--------------------------------------------------------------------------------------------------------------------------------------------------------"
   ]
  }
 ],
 "metadata": {
  "kernelspec": {
   "display_name": "Python 3 (ipykernel)",
   "language": "python",
   "name": "python3"
  },
  "language_info": {
   "codemirror_mode": {
    "name": "ipython",
    "version": 3
   },
   "file_extension": ".py",
   "mimetype": "text/x-python",
   "name": "python",
   "nbconvert_exporter": "python",
   "pygments_lexer": "ipython3",
   "version": "3.11.7"
  }
 },
 "nbformat": 4,
 "nbformat_minor": 5
}
