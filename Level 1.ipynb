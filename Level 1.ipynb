{
 "cells": [
  {
   "cell_type": "markdown",
   "id": "e7b0eaf2-8a5f-414b-b71b-09b323309c9d",
   "metadata": {},
   "source": [
    "## LEVEL 1"
   ]
  },
  {
   "cell_type": "markdown",
   "id": "90eb6f14-4515-46c2-9ef4-c88d7b973f42",
   "metadata": {},
   "source": [
    "#### Task 1 : String Reversal\n",
    "Create a Python function that takes a string as input and returns the reverse of that string. \n",
    "For example, if the input is \"hello,\" the function should return \"olleh.\""
   ]
  },
  {
   "cell_type": "code",
   "execution_count": 11,
   "id": "44cde7e0-1aae-477e-9c0e-ca049ba95c03",
   "metadata": {},
   "outputs": [
    {
     "name": "stdin",
     "output_type": "stream",
     "text": [
      "Enter a string :  hello\n"
     ]
    },
    {
     "name": "stdout",
     "output_type": "stream",
     "text": [
      "Reverse of given hello is olleh\n"
     ]
    }
   ],
   "source": [
    "abc = input(\"Enter a string : \")\n",
    "result = abc[::-1]\n",
    "print(f\"Reverse of given {abc} is {result}\")"
   ]
  },
  {
   "cell_type": "markdown",
   "id": "921825e8-9f45-496d-9b2b-649eded64e55",
   "metadata": {},
   "source": [
    "#### --------------------------------------------------------------------------------------------------------------------------------------------------"
   ]
  },
  {
   "cell_type": "markdown",
   "id": "b263e9e4-7695-4d40-bf0e-6501c2b25769",
   "metadata": {},
   "source": [
    "#### Task 2 : Temperature Conversion\n",
    "Create a Python program that converts temperatures between Celsius and Fahrenheit. Prompt the user to enter a temperature value and the unit of measurement, and then display the converted temperature."
   ]
  },
  {
   "cell_type": "code",
   "execution_count": 5,
   "id": "ceb71eb6-c8bb-40ac-b2ad-f29171e57ebb",
   "metadata": {},
   "outputs": [
    {
     "name": "stdout",
     "output_type": "stream",
     "text": [
      "1. Convert Celsius to Fahrenheit\n",
      "2. Convert Fahrenheit to Celsius\n"
     ]
    },
    {
     "name": "stdin",
     "output_type": "stream",
     "text": [
      "Select an option:  1\n",
      "Enter the temperature in Celsius:  37\n"
     ]
    },
    {
     "name": "stdout",
     "output_type": "stream",
     "text": [
      "37.0°C is equal to 98.6°F\n"
     ]
    }
   ],
   "source": [
    "def converter(option):\n",
    "    if option == 1:\n",
    "        temp = float(input(\"Enter the temperature in Celsius: \"))\n",
    "        fahrenheit = (temp * 9/5) + 32 \n",
    "        print(f\"{temp}°C is equal to {fahrenheit}\\u00B0F\")     # \\u00B0 code for degree symbol\n",
    "    elif option == 2:\n",
    "        temp = float(input(\"Enter the temperature in Fahrenheit: \"))\n",
    "        celsius = (temp - 32) * 5/9 \n",
    "        print(f\"{temp}°F is equal to {celsius}\\u00B0C\")\n",
    "    else:\n",
    "        print(\"Invalid option. Please choose 1 or 2.\")\n",
    "\n",
    "print(\"1. Convert Celsius to Fahrenheit\")\n",
    "print(\"2. Convert Fahrenheit to Celsius\")\n",
    "option = int(input(\"Select an option: \"))\n",
    "\n",
    "converter(option)"
   ]
  },
  {
   "cell_type": "markdown",
   "id": "d5d1a7c0-4233-4be4-96dd-3cd8603b302f",
   "metadata": {},
   "source": [
    "#### --------------------------------------------------------------------------------------------------------------------------------------------------"
   ]
  },
  {
   "cell_type": "markdown",
   "id": "46d884d3-dc8f-42dd-a2aa-53acb900b5ed",
   "metadata": {},
   "source": [
    "#### Task 3 : Email Validator\n",
    "Develop a Python function that validates\n",
    "whether a given string is a valid email\n",
    "address. Implement checks for the format,\n",
    "including the presence of an \"@\" symbol and\n",
    "a domain name"
   ]
  },
  {
   "cell_type": "code",
   "execution_count": 11,
   "id": "970a147e-a202-49a6-b634-e7ffe213f6bd",
   "metadata": {},
   "outputs": [
    {
     "name": "stdin",
     "output_type": "stream",
     "text": [
      "Enter a mail ID:  abc@.com\n"
     ]
    },
    {
     "name": "stdout",
     "output_type": "stream",
     "text": [
      "Invalid mail ID\n"
     ]
    },
    {
     "name": "stdin",
     "output_type": "stream",
     "text": [
      "Enter a valid mail ID:  abc@gmail.com\n"
     ]
    },
    {
     "name": "stdout",
     "output_type": "stream",
     "text": [
      "Mail ID is valid\n"
     ]
    }
   ],
   "source": [
    "import re\n",
    "\n",
    "def emailvalidate(text):\n",
    "    pattern = r'^[a-zA-Z0-9_.+-]+@[a-zA-Z0-9-]+\\.[a-zA-Z]{2,}$'\n",
    "    \n",
    "    if re.match(pattern, text):\n",
    "        print(\"Mail ID is valid\")\n",
    "    else:\n",
    "        print(\"Invalid mail ID\")\n",
    "        # Ask for the input again if the email is invalid\n",
    "        new_text = input(\"Enter a valid mail ID: \")\n",
    "        emailvalidate(new_text)\n",
    "\n",
    "text = input(\"Enter a mail ID: \")\n",
    "emailvalidate(text)"
   ]
  },
  {
   "cell_type": "markdown",
   "id": "67ac3f43-45ec-483d-934a-cb2a8488aa6b",
   "metadata": {},
   "source": [
    "#### --------------------------------------------------------------------------------------------------------------------------------------------------"
   ]
  },
  {
   "cell_type": "markdown",
   "id": "6cddc5bd-6ce4-4238-a615-220fd010f2d7",
   "metadata": {},
   "source": [
    "### Task 4 : Calculator Program\n",
    "Create a Python program that acts as a basic\n",
    "calculator. It should prompt the user to\n",
    "enter two numbers and an operator (+, -, *, /,\n",
    "%), and then display the result of the\n",
    "operation."
   ]
  },
  {
   "cell_type": "code",
   "execution_count": 14,
   "id": "d6b4b798-d1db-4d57-8ddd-f1990fe8c131",
   "metadata": {},
   "outputs": [
    {
     "name": "stdin",
     "output_type": "stream",
     "text": [
      "Enter the first number:  12\n",
      "Enter the second number:  15\n"
     ]
    },
    {
     "name": "stdout",
     "output_type": "stream",
     "text": [
      "\n",
      "Choose an operation:\n",
      "1. Addition (+)\n",
      "2. Subtraction (-)\n",
      "3. Multiplication (x)\n",
      "4. Division (/)\n",
      "5. Modulus (%)\n"
     ]
    },
    {
     "name": "stdin",
     "output_type": "stream",
     "text": [
      "Choose an option (1-5):  8\n"
     ]
    },
    {
     "name": "stdout",
     "output_type": "stream",
     "text": [
      "Invalid choice. Please select a valid option.\n"
     ]
    },
    {
     "name": "stdin",
     "output_type": "stream",
     "text": [
      "Choose an option (1-5):  2\n"
     ]
    },
    {
     "name": "stdout",
     "output_type": "stream",
     "text": [
      "12 - 15 = -3\n"
     ]
    }
   ],
   "source": [
    "def calculator(a, b, choice):\n",
    "    if choice == 1:\n",
    "        print(f'{a} + {b} = {a + b}')\n",
    "    elif choice == 2:\n",
    "        print(f'{a} - {b} = {a - b}')\n",
    "    elif choice == 3:\n",
    "        print(f'{a} x {b} = {a * b}')\n",
    "    elif choice == 4:\n",
    "        if b != 0:\n",
    "            print(f'{a} / {b} = {a / b}')\n",
    "        else:\n",
    "            print(\"Error: Division by zero is not allowed.\")\n",
    "    elif choice == 5:\n",
    "        if b != 0:\n",
    "            print(f'{a} % {b} = {a % b}')\n",
    "        else:\n",
    "            print(\"Error: Division by zero is not allowed.\")\n",
    "    else:\n",
    "        print(\"Invalid choice. Please select a valid option.\")\n",
    "        choice = int(input(\"Choose an option (1-5): \"))\n",
    "        calculator(a, b, choice)\n",
    "\n",
    "# Main program\n",
    "a = int(input(\"Enter the first number: \"))\n",
    "b = int(input(\"Enter the second number: \"))\n",
    "print(\"\\nChoose an operation:\\n1. Addition (+)\\n2. Subtraction (-)\\n3. Multiplication (x)\\n4. Division (/)\\n5. Modulus (%)\")\n",
    "choice = int(input(\"Choose an option (1-5): \"))\n",
    "\n",
    "calculator(a, b, choice)"
   ]
  },
  {
   "cell_type": "markdown",
   "id": "650eb41c-21a3-4c95-9b3e-e88cb2e99721",
   "metadata": {},
   "source": [
    "#### --------------------------------------------------------------------------------------------------------------------------------------------------"
   ]
  },
  {
   "cell_type": "markdown",
   "id": "82eeb7f3-8bd3-49fd-af15-b9e7509449b9",
   "metadata": {},
   "source": [
    "### Task 5 : Palindrome Checker\r\n",
    "Write a Python function that checks whethe ra given string is a palindrome. A palindromeis a word, phrase, or sequence that reads th esame backward as forward (e.g., \"madam\" or\"racecar\")."
   ]
  },
  {
   "cell_type": "code",
   "execution_count": 17,
   "id": "21f7bf6f-e7cf-4469-bcdb-80e3ea39cd73",
   "metadata": {},
   "outputs": [
    {
     "name": "stdout",
     "output_type": "stream",
     "text": [
      "PALINDROME CHECKER\n"
     ]
    },
    {
     "name": "stdin",
     "output_type": "stream",
     "text": [
      "Enter something :  racecar\n"
     ]
    },
    {
     "name": "stdout",
     "output_type": "stream",
     "text": [
      "racecar is a palindrome\n"
     ]
    }
   ],
   "source": [
    "def checkpalindrome(text):\n",
    "    reverse = text[::-1]\n",
    "    if text == reverse :\n",
    "        print(f'{text} is a palindrome')\n",
    "    else:\n",
    "        print(f'{text} is not a palindrome')\n",
    "\n",
    "print(\"PALINDROME CHECKER\")\n",
    "text = input(\"Enter something : \")\n",
    "checkpalindrome(text)"
   ]
  },
  {
   "cell_type": "markdown",
   "id": "3c36274c-d8c0-4e71-ad1c-068bb37a868f",
   "metadata": {},
   "source": [
    "#### --------------------------------------------------------------------------------------------------------------------------------------------------"
   ]
  }
 ],
 "metadata": {
  "kernelspec": {
   "display_name": "Python 3 (ipykernel)",
   "language": "python",
   "name": "python3"
  },
  "language_info": {
   "codemirror_mode": {
    "name": "ipython",
    "version": 3
   },
   "file_extension": ".py",
   "mimetype": "text/x-python",
   "name": "python",
   "nbconvert_exporter": "python",
   "pygments_lexer": "ipython3",
   "version": "3.11.7"
  }
 },
 "nbformat": 4,
 "nbformat_minor": 5
}
